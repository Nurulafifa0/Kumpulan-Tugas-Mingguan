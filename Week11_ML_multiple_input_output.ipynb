{
  "nbformat": 4,
  "nbformat_minor": 0,
  "metadata": {
    "colab": {
      "name": "Week11_ML_multiple_input_output.ipynb",
      "provenance": [],
      "authorship_tag": "ABX9TyOeeSCur6NzmCabCeK1w25k",
      "include_colab_link": true
    },
    "kernelspec": {
      "name": "python3",
      "display_name": "Python 3"
    },
    "language_info": {
      "name": "python"
    }
  },
  "cells": [
    {
      "cell_type": "markdown",
      "metadata": {
        "id": "view-in-github",
        "colab_type": "text"
      },
      "source": [
        "<a href=\"https://colab.research.google.com/github/Nurulafifa0/Kumpulan-Tugas-Mingguan/blob/main/Week11_ML_multiple_input_output.ipynb\" target=\"_parent\"><img src=\"https://colab.research.google.com/assets/colab-badge.svg\" alt=\"Open In Colab\"/></a>"
      ]
    },
    {
      "cell_type": "markdown",
      "source": [
        "Using split() method"
      ],
      "metadata": {
        "id": "r6O9AmDRsfDB"
      }
    },
    {
      "cell_type": "code",
      "execution_count": 1,
      "metadata": {
        "colab": {
          "base_uri": "https://localhost:8080/"
        },
        "id": "1nPDLRbSqe0A",
        "outputId": "e0f099d8-e911-4bda-f756-1811c3ad8602"
      },
      "outputs": [
        {
          "output_type": "stream",
          "name": "stdout",
          "text": [
            "Enter a two value: 5 10\n",
            "Number of boys:  5\n",
            "Number of girls:  10\n",
            "\n",
            "Enter a three value: 30 10 20\n",
            "Total number of students:  30\n",
            "Number of boys is :  10\n",
            "Number of girls is :  20\n",
            "\n",
            "Enter a two value: 20 30\n",
            "First number is 20 and second number is 30\n",
            "\n",
            "Enter a multiple value: 20 30 10 22 23 26\n",
            "List of students:  [20, 30, 10, 22, 23, 26]\n"
          ]
        }
      ],
      "source": [
        "# Python program showing how to\n",
        "# multiple input using split\n",
        "\n",
        "# taking two inputs at a time\n",
        "x, y = input(\"Enter a two value: \").split()\n",
        "print(\"Number of boys: \", x)\n",
        "print(\"Number of girls: \", y)\n",
        "print()\n",
        "\n",
        "# taking three inputs at a time\n",
        "x, y, z = input(\"Enter a three value: \").split()\n",
        "print(\"Total number of students: \", x)\n",
        "print(\"Number of boys is : \", y)\n",
        "print(\"Number of girls is : \", z)\n",
        "print()\n",
        "\n",
        "# taking two inputs at a time\n",
        "a, b = input(\"Enter a two value: \").split()\n",
        "print(\"First number is {} and second number is {}\".format(a, b))\n",
        "print()\n",
        "\n",
        "# taking multiple inputs at a time\n",
        "# and type casting using list() function\n",
        "x = list(map(int, input(\"Enter a multiple value: \").split()))\n",
        "print(\"List of students: \", x)"
      ]
    },
    {
      "cell_type": "markdown",
      "source": [
        "Using List comprehension"
      ],
      "metadata": {
        "id": "IKtxnWrfrrNS"
      }
    },
    {
      "cell_type": "code",
      "source": [
        "# Python program showing\n",
        "# how to take multiple input\n",
        "# using List comprehension\n",
        "\n",
        "# taking two input at a time\n",
        "x, y = [int(x) for x in input(\"Enter two value: \").split()]\n",
        "print(\"First Number is: \", x)\n",
        "print(\"Second Number is: \", y)\n",
        "print()\n",
        "\n",
        "# taking three input at a time\n",
        "x, y, z = [int(x) for x in input(\"Enter three value: \").split()]\n",
        "print(\"First Number is: \", x)\n",
        "print(\"Second Number is: \", y)\n",
        "print(\"Third Number is: \", z)\n",
        "print()\n",
        "\n",
        "# taking two inputs at a time\n",
        "x, y = [int(x) for x in input(\"Enter two value: \").split()]\n",
        "print(\"First number is {} and second number is {}\".format(x, y))\n",
        "print()\n",
        "\n",
        "# taking multiple inputs at a time\n",
        "x = [int(x) for x in input(\"Enter multiple value: \").split()]\n",
        "print(\"Number of list is: \", x)"
      ],
      "metadata": {
        "colab": {
          "base_uri": "https://localhost:8080/"
        },
        "id": "UfqDsruYrqfS",
        "outputId": "cfee5b47-79cf-425f-ef0c-54ccd6d8270c"
      },
      "execution_count": 2,
      "outputs": [
        {
          "output_type": "stream",
          "name": "stdout",
          "text": [
            "Enter two value: 2 5\n",
            "First Number is:  2\n",
            "Second Number is:  5\n",
            "\n",
            "Enter three value: 2 4 5\n",
            "First Number is:  2\n",
            "Second Number is:  4\n",
            "Third Number is:  5\n",
            "\n",
            "Enter two value: 2 10\n",
            "First number is 2 and second number is 10\n",
            "\n",
            "Enter multiple value: 1 2 3 4 5\n",
            "Number of list is:  [1, 2, 3, 4, 5]\n"
          ]
        }
      ]
    }
  ]
}