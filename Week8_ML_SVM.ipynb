{
  "nbformat": 4,
  "nbformat_minor": 0,
  "metadata": {
    "colab": {
      "name": "Week8_ML_SVM.ipynb",
      "provenance": [],
      "authorship_tag": "ABX9TyNtN7uZSDgIwGqCNw2ZGAId",
      "include_colab_link": true
    },
    "kernelspec": {
      "name": "python3",
      "display_name": "Python 3"
    },
    "language_info": {
      "name": "python"
    }
  },
  "cells": [
    {
      "cell_type": "markdown",
      "metadata": {
        "id": "view-in-github",
        "colab_type": "text"
      },
      "source": [
        "<a href=\"https://colab.research.google.com/github/Nurulafifa0/Kumpulan-Tugas-Mingguan/blob/main/Week8_ML_SVM.ipynb\" target=\"_parent\"><img src=\"https://colab.research.google.com/assets/colab-badge.svg\" alt=\"Open In Colab\"/></a>"
      ]
    },
    {
      "cell_type": "markdown",
      "source": [
        "Support Vektor Machines"
      ],
      "metadata": {
        "id": "2cT-VrVx6Q_L"
      }
    },
    {
      "cell_type": "code",
      "source": [
        "# Importing packages\n",
        "\n",
        "import pandas as pd # data processing\n",
        "import numpy as np # working with arrays\n",
        "import seaborn as sb # visualization\n",
        "import matplotlib.pyplot as plt # visualization\n",
        "from sklearn.svm import SVC # SVM model algorithm\n",
        "from sklearn.metrics import accuracy_score # evalution metric\n",
        "from sklearn.metrics import confusion_matrix # evalution metric\n",
        "from sklearn.model_selection import train_test_split # splitting the data\n",
        "from termcolor import colored as cl # text customization\n",
        "\n",
        "sb.set_style('whitegrid')\n",
        "plt.rcParams['figure.figsize'] = (20, 10)"
      ],
      "metadata": {
        "id": "AEOrQu8U7xBr"
      },
      "execution_count": 2,
      "outputs": []
    },
    {
      "cell_type": "markdown",
      "source": [
        "Importing Data & EDA"
      ],
      "metadata": {
        "id": "Fy6ZqcSi9Hjr"
      }
    },
    {
      "cell_type": "code",
      "source": [
        "df = pd.read_csv('cancer_data.csv')\n",
        "df.drop('Unnamed: 0', axis = 1, inplace = True)\n",
        "\n",
        "df.head()"
      ],
      "metadata": {
        "id": "Q_gebvkH7ymH"
      },
      "execution_count": null,
      "outputs": []
    },
    {
      "cell_type": "code",
      "source": [
        "benign_samples = df[df['Class'] == 2][0:50]\n",
        "malignant_samples = df[df['Class'] == 4][0:50]\n",
        "\n",
        "sb.scatterplot(benign_samples['Clump'], benign_samples['UnifSize'], s = 150, label = 'Benign')\n",
        "sb.scatterplot(malignant_samples['Clump'], malignant_samples['UnifSize'], s = 150, label = 'Malignant')\n",
        "plt.legend(fontsize = 14)\n",
        "plt.title('CLUMP / UNIFORMITY', fontsize = 16)\n",
        "plt.xlabel('Clump Thickness', fontsize = 14)\n",
        "plt.ylabel('Uniformity Size', fontsize = 14)\n",
        "plt.xticks(fontsize = 12)\n",
        "plt.yticks(fontsize = 12)\n",
        "\n",
        "plt.savefig('clump_unif.png')\n",
        "plt.show()"
      ],
      "metadata": {
        "id": "KUhnq7Q38Oy8"
      },
      "execution_count": null,
      "outputs": []
    },
    {
      "cell_type": "markdown",
      "source": [
        "Data processing"
      ],
      "metadata": {
        "id": "dFXxKkQ79SbP"
      }
    },
    {
      "cell_type": "code",
      "source": [
        "print(cl(df.dtypes, attrs = ['bold']))"
      ],
      "metadata": {
        "id": "5rGv9zGv8QRH"
      },
      "execution_count": null,
      "outputs": []
    },
    {
      "cell_type": "code",
      "source": [
        "df = df[pd.to_numeric(df['BareNuc'], errors='coerce').notnull()]\n",
        "df['BareNuc'] = df['BareNuc'].astype('int64')\n",
        "\n",
        "print(cl(df.dtypes, attrs = ['bold']))"
      ],
      "metadata": {
        "id": "HjqIOX7D8Wef"
      },
      "execution_count": null,
      "outputs": []
    },
    {
      "cell_type": "markdown",
      "source": [
        "Feature Selection & Train Test Split"
      ],
      "metadata": {
        "id": "OaOKRPus9cDE"
      }
    },
    {
      "cell_type": "code",
      "source": [
        "X_var = np.asarray(df.drop('Class', axis = 1))\n",
        "y_var = np.asarray(df['Class'])\n",
        "\n",
        "print(cl('X_var samples : ', attrs = ['bold']), X_var[:5])\n",
        "print(cl('y_var samples : ', attrs = ['bold']), y_var[:5])"
      ],
      "metadata": {
        "id": "dBRHw7Ah8ayh"
      },
      "execution_count": null,
      "outputs": []
    },
    {
      "cell_type": "code",
      "source": [
        "X_train, X_test, y_train, y_test = train_test_split(X_var, y_var, test_size = 0.2, random_state = 4)\n",
        "\n",
        "print(cl('X_train samples : ', attrs = ['bold']), X_train[:5])\n",
        "print(cl('X_test samples : ', attrs = ['bold']), X_test[:5])\n",
        "print(cl('y_train samples : ', attrs = ['bold']), y_train[:5])\n",
        "print(cl('y_test samples : ', attrs = ['bold']), y_test[:5])"
      ],
      "metadata": {
        "id": "iSkYH9sr8fkP"
      },
      "execution_count": null,
      "outputs": []
    },
    {
      "cell_type": "markdown",
      "source": [
        "Modeling & Prediction"
      ],
      "metadata": {
        "id": "aBBH60ip9j7T"
      }
    },
    {
      "cell_type": "code",
      "source": [
        "model = SVC(kernel = 'rbf')\n",
        "model.fit(X_train, y_train)"
      ],
      "metadata": {
        "id": "xjsmLQ-68kNz"
      },
      "execution_count": null,
      "outputs": []
    },
    {
      "cell_type": "code",
      "source": [
        "yhat = model.predict(X_test)\n",
        "\n",
        "print(cl('yhat samples : ', attrs = ['bold']), yhat[:10])"
      ],
      "metadata": {
        "id": "MrBwCKxr9wqr"
      },
      "execution_count": null,
      "outputs": []
    },
    {
      "cell_type": "markdown",
      "source": [
        "Evaluation"
      ],
      "metadata": {
        "id": "Ghg_2Y5R91uF"
      }
    },
    {
      "cell_type": "code",
      "source": [
        "print(cl('Accuracy score of our model is {}'.format(accuracy_score(y_test, yhat).round(3)), attrs = ['bold']))\n"
      ],
      "metadata": {
        "id": "kZroqD_s90YZ"
      },
      "execution_count": null,
      "outputs": []
    },
    {
      "cell_type": "code",
      "source": [
        "import itertools\n",
        "\n",
        "def plot_confusion_matrix(cm, classes,normalize = False, title = 'Confusion matrix', cmap = plt.cm.Blues):\n",
        "    \n",
        "    if normalize:\n",
        "        cm = cm.astype(float) / cm.sum(axis=1)[:, np.newaxis]\n",
        "\n",
        "    plt.imshow(cm, interpolation = 'nearest', cmap = cmap)\n",
        "    plt.title(title, fontsize = 22)\n",
        "    plt.colorbar()\n",
        "    tick_marks = np.arange(len(classes))\n",
        "    plt.xticks(tick_marks, classes, rotation = 45, fontsize = 13)\n",
        "    plt.yticks(tick_marks, classes, fontsize = 13)\n",
        "\n",
        "    fmt = '.2f' if normalize else 'd'\n",
        "    thresh = cm.max() / 2.\n",
        "    for i, j in itertools.product(range(cm.shape[0]), range(cm.shape[1])):\n",
        "        plt.text(j, i, format(cm[i, j], fmt),\n",
        "                 horizontalalignment = 'center',\n",
        "                 fontsize = 15,\n",
        "                 color = 'white' if cm[i, j] > thresh else 'black')\n",
        "\n",
        "    plt.tight_layout()\n",
        "    plt.ylabel('True label', fontsize = 16)\n",
        "    plt.xlabel('Predicted label', fontsize = 16)\n",
        "\n",
        "# Compute confusion matrix\n",
        "\n",
        "cnf_matrix = confusion_matrix(y_test, yhat, labels = [2, 4])\n",
        "np.set_printoptions(precision = 2)\n",
        "\n",
        "\n",
        "# Plot the confusion matrix\n",
        "\n",
        "plt.figure()\n",
        "plot_confusion_matrix(cnf_matrix, classes = ['Benign(2)','Malignant(4)'], normalize = False,  title = 'Confusion matrix')\n",
        "plt.savefig('confusion_matrix.png')\n",
        "plt.show()"
      ],
      "metadata": {
        "id": "kfiZbmIU979l"
      },
      "execution_count": null,
      "outputs": []
    },
    {
      "cell_type": "markdown",
      "source": [
        "Final Thoughts!"
      ],
      "metadata": {
        "id": "ad3-88cL-J3v"
      }
    },
    {
      "cell_type": "code",
      "source": [
        "# Importing packages\n",
        "\n",
        "import pandas as pd # data processing\n",
        "import numpy as np # working with arrays\n",
        "import seaborn as sb # visualization\n",
        "import matplotlib.pyplot as plt # visualization\n",
        "from sklearn.svm import SVC # SVM model algorithm\n",
        "from sklearn.metrics import accuracy_score # evalution metric\n",
        "from sklearn.metrics import confusion_matrix # evalution metric\n",
        "from sklearn.model_selection import train_test_split # splitting the data\n",
        "from termcolor import colored as cl # text customization\n",
        "\n",
        "sb.set_style('whitegrid')\n",
        "plt.rcParams['figure.figsize'] = (20, 10)\n",
        "\n",
        "df = pd.read_csv('cancer_data.csv')\n",
        "df.drop('Unnamed: 0', axis = 1, inplace = True)\n",
        "\n",
        "df.head()\n",
        "\n",
        "benign_samples = df[df['Class'] == 2][0:50]\n",
        "malignant_samples = df[df['Class'] == 4][0:50]\n",
        "\n",
        "sb.scatterplot(benign_samples['Clump'], benign_samples['UnifSize'], s = 150, label = 'Benign')\n",
        "sb.scatterplot(malignant_samples['Clump'], malignant_samples['UnifSize'], s = 150, label = 'Malignant')\n",
        "plt.legend(fontsize = 14)\n",
        "plt.title('CLUMP / UNIFORMITY', fontsize = 16)\n",
        "plt.xlabel('Clump Thickness', fontsize = 14)\n",
        "plt.ylabel('Uniformity Size', fontsize = 14)\n",
        "plt.xticks(fontsize = 12)\n",
        "plt.yticks(fontsize = 12)\n",
        "\n",
        "plt.savefig('clump_unif.png')\n",
        "plt.show()\n",
        "\n",
        "print(cl(df.dtypes, attrs = ['bold']))\n",
        "\n",
        "df = df[pd.to_numeric(df['BareNuc'], errors='coerce').notnull()]\n",
        "df['BareNuc'] = df['BareNuc'].astype('int64')\n",
        "\n",
        "print(cl(df.dtypes, attrs = ['bold']))\n",
        "\n",
        "X_var = np.asarray(df.drop('Class', axis = 1))\n",
        "y_var = np.asarray(df['Class'])\n",
        "\n",
        "print(cl('X_var samples : ', attrs = ['bold']), X_var[:5])\n",
        "print(cl('y_var samples : ', attrs = ['bold']), y_var[:5])\n",
        "\n",
        "X_train, X_test, y_train, y_test = train_test_split(X_var, y_var, test_size = 0.2, random_state = 4)\n",
        "\n",
        "print(cl('X_train samples : ', attrs = ['bold']), X_train[:5])\n",
        "print(cl('X_test samples : ', attrs = ['bold']), X_test[:5])\n",
        "print(cl('y_train samples : ', attrs = ['bold']), y_train[:5])\n",
        "print(cl('y_test samples : ', attrs = ['bold']), y_test[:5])\n",
        "\n",
        "model = SVC(kernel = 'rbf')\n",
        "model.fit(X_train, y_train)\n",
        "\n",
        "yhat = model.predict(X_test)\n",
        "\n",
        "print(cl('yhat samples : ', attrs = ['bold']), yhat[:10])\n",
        "\n",
        "print(cl('Accuracy score of our model is {}'.format(accuracy_score(y_test, yhat).round(3)), attrs = ['bold']))\n",
        "\n",
        "import itertools\n",
        "def plot_confusion_matrix(cm, classes,normalize = False, title = 'Confusion matrix', cmap = plt.cm.Blues):\n",
        "    \n",
        "    if normalize:\n",
        "        cm = cm.astype(float) / cm.sum(axis=1)[:, np.newaxis]\n",
        "\n",
        "    plt.imshow(cm, interpolation = 'nearest', cmap = cmap)\n",
        "    plt.title(title, fontsize = 22)\n",
        "    plt.colorbar()\n",
        "    tick_marks = np.arange(len(classes))\n",
        "    plt.xticks(tick_marks, classes, rotation = 45, fontsize = 13)\n",
        "    plt.yticks(tick_marks, classes, fontsize = 13)\n",
        "\n",
        "    fmt = '.2f' if normalize else 'd'\n",
        "    thresh = cm.max() / 2.\n",
        "    for i, j in itertools.product(range(cm.shape[0]), range(cm.shape[1])):\n",
        "        plt.text(j, i, format(cm[i, j], fmt),\n",
        "                 horizontalalignment = 'center',\n",
        "                 fontsize = 15,\n",
        "                 color = 'white' if cm[i, j] > thresh else 'black')\n",
        "\n",
        "    plt.tight_layout()\n",
        "    plt.ylabel('True label', fontsize = 16)\n",
        "    plt.xlabel('Predicted label', fontsize = 16)\n",
        "\n",
        "# Compute confusion matrix\n",
        "\n",
        "cnf_matrix = confusion_matrix(y_test, yhat, labels = [2, 4])\n",
        "np.set_printoptions(precision = 2)\n",
        "\n",
        "# Plot the confusion matrix\n",
        "\n",
        "plt.figure()\n",
        "plot_confusion_matrix(cnf_matrix, classes = ['Benign(2)','Malignant(4)'], normalize = False,  title = 'Confusion matrix')\n",
        "plt.savefig('confusion_matrix.png')\n",
        "plt.show()"
      ],
      "metadata": {
        "id": "Bkqn-aXl-NmB"
      },
      "execution_count": null,
      "outputs": []
    }
  ]
}